{
  "nbformat": 4,
  "nbformat_minor": 0,
  "metadata": {
    "colab": {
      "name": "final_deficit_for_prediction_dwr_watersheds.ipynb",
      "provenance": [],
      "collapsed_sections": []
    },
    "kernelspec": {
      "display_name": "Python 3",
      "name": "python3"
    },
    "language_info": {
      "name": "python"
    }
  },
  "cells": [
    {
      "cell_type": "code",
      "metadata": {
        "colab": {
          "base_uri": "https://localhost:8080/"
        },
        "id": "jhxxyGIM6LiH",
        "outputId": "34d0fed5-4efb-4350-b5da-9e1a3b8f79bb"
      },
      "source": [
        "import matplotlib\n",
        "import matplotlib.pyplot as plt\n",
        "from scipy.optimize import curve_fit\n",
        "import pandas as pd\n",
        "! pip install geopandas\n",
        "import geopandas as gpd\n",
        "import numpy as np\n",
        "%config InlineBackend.figure_format = 'retina'\n",
        "%matplotlib inline\n",
        "from matplotlib import gridspec\n",
        "from mpl_toolkits.axes_grid1 import make_axes_locatable\n",
        "matplotlib.rcParams.update(matplotlib.rcParamsDefault)\n",
        "! pip install hydrofunctions\n",
        "import hydrofunctions as hf\n",
        "import pickle\n",
        "import matplotlib.font_manager as fm\n",
        "!wget https://github.com/Phonbopit/sarabun-webfont/raw/master/fonts/thsarabunnew-webfont.ttf\n",
        "fm.fontManager.ttflist += fm.createFontList(['thsarabunnew-webfont.ttf'])\n",
        "matplotlib.rc('font', family='TH Sarabun New')\n",
        "plt.rcParams.update({'font.size': 12})\n",
        "from shapely.geometry import Polygon"
      ],
      "execution_count": 2,
      "outputs": [
        {
          "output_type": "stream",
          "name": "stdout",
          "text": [
            "Looking in indexes: https://pypi.org/simple, https://us-python.pkg.dev/colab-wheels/public/simple/\n",
            "Collecting geopandas\n",
            "  Downloading geopandas-0.10.2-py2.py3-none-any.whl (1.0 MB)\n",
            "\u001b[K     |████████████████████████████████| 1.0 MB 4.3 MB/s \n",
            "\u001b[?25hRequirement already satisfied: shapely>=1.6 in /usr/local/lib/python3.7/dist-packages (from geopandas) (1.8.2)\n",
            "Requirement already satisfied: pandas>=0.25.0 in /usr/local/lib/python3.7/dist-packages (from geopandas) (1.3.5)\n",
            "Collecting pyproj>=2.2.0\n",
            "  Downloading pyproj-3.2.1-cp37-cp37m-manylinux2010_x86_64.whl (6.3 MB)\n",
            "\u001b[K     |████████████████████████████████| 6.3 MB 41.1 MB/s \n",
            "\u001b[?25hCollecting fiona>=1.8\n",
            "  Downloading Fiona-1.8.21-cp37-cp37m-manylinux2014_x86_64.whl (16.7 MB)\n",
            "\u001b[K     |████████████████████████████████| 16.7 MB 20.0 MB/s \n",
            "\u001b[?25hRequirement already satisfied: certifi in /usr/local/lib/python3.7/dist-packages (from fiona>=1.8->geopandas) (2022.6.15)\n",
            "Requirement already satisfied: six>=1.7 in /usr/local/lib/python3.7/dist-packages (from fiona>=1.8->geopandas) (1.15.0)\n",
            "Collecting click-plugins>=1.0\n",
            "  Downloading click_plugins-1.1.1-py2.py3-none-any.whl (7.5 kB)\n",
            "Collecting cligj>=0.5\n",
            "  Downloading cligj-0.7.2-py3-none-any.whl (7.1 kB)\n",
            "Requirement already satisfied: attrs>=17 in /usr/local/lib/python3.7/dist-packages (from fiona>=1.8->geopandas) (21.4.0)\n",
            "Requirement already satisfied: setuptools in /usr/local/lib/python3.7/dist-packages (from fiona>=1.8->geopandas) (57.4.0)\n",
            "Collecting munch\n",
            "  Downloading munch-2.5.0-py2.py3-none-any.whl (10 kB)\n",
            "Requirement already satisfied: click>=4.0 in /usr/local/lib/python3.7/dist-packages (from fiona>=1.8->geopandas) (7.1.2)\n",
            "Requirement already satisfied: numpy>=1.17.3 in /usr/local/lib/python3.7/dist-packages (from pandas>=0.25.0->geopandas) (1.21.6)\n",
            "Requirement already satisfied: python-dateutil>=2.7.3 in /usr/local/lib/python3.7/dist-packages (from pandas>=0.25.0->geopandas) (2.8.2)\n",
            "Requirement already satisfied: pytz>=2017.3 in /usr/local/lib/python3.7/dist-packages (from pandas>=0.25.0->geopandas) (2022.1)\n",
            "Installing collected packages: munch, cligj, click-plugins, pyproj, fiona, geopandas\n",
            "Successfully installed click-plugins-1.1.1 cligj-0.7.2 fiona-1.8.21 geopandas-0.10.2 munch-2.5.0 pyproj-3.2.1\n",
            "Looking in indexes: https://pypi.org/simple, https://us-python.pkg.dev/colab-wheels/public/simple/\n",
            "Collecting hydrofunctions\n",
            "  Downloading hydrofunctions-0.2.3-py3-none-any.whl (40 kB)\n",
            "\u001b[K     |████████████████████████████████| 40 kB 3.3 MB/s \n",
            "\u001b[?25hRequirement already satisfied: requests in /usr/local/lib/python3.7/dist-packages (from hydrofunctions) (2.23.0)\n",
            "Requirement already satisfied: numpy>=1.16.0 in /usr/local/lib/python3.7/dist-packages (from hydrofunctions) (1.21.6)\n",
            "Requirement already satisfied: IPython in /usr/local/lib/python3.7/dist-packages (from hydrofunctions) (5.5.0)\n",
            "Requirement already satisfied: pyarrow in /usr/local/lib/python3.7/dist-packages (from hydrofunctions) (6.0.1)\n",
            "Requirement already satisfied: pandas in /usr/local/lib/python3.7/dist-packages (from hydrofunctions) (1.3.5)\n",
            "Requirement already satisfied: matplotlib in /usr/local/lib/python3.7/dist-packages (from hydrofunctions) (3.2.2)\n",
            "Requirement already satisfied: importlib-metadata in /usr/local/lib/python3.7/dist-packages (from hydrofunctions) (4.11.4)\n",
            "Requirement already satisfied: typing-extensions>=3.6.4 in /usr/local/lib/python3.7/dist-packages (from importlib-metadata->hydrofunctions) (4.1.1)\n",
            "Requirement already satisfied: zipp>=0.5 in /usr/local/lib/python3.7/dist-packages (from importlib-metadata->hydrofunctions) (3.8.0)\n",
            "Requirement already satisfied: setuptools>=18.5 in /usr/local/lib/python3.7/dist-packages (from IPython->hydrofunctions) (57.4.0)\n",
            "Requirement already satisfied: pygments in /usr/local/lib/python3.7/dist-packages (from IPython->hydrofunctions) (2.6.1)\n",
            "Requirement already satisfied: traitlets>=4.2 in /usr/local/lib/python3.7/dist-packages (from IPython->hydrofunctions) (5.1.1)\n",
            "Requirement already satisfied: simplegeneric>0.8 in /usr/local/lib/python3.7/dist-packages (from IPython->hydrofunctions) (0.8.1)\n",
            "Requirement already satisfied: decorator in /usr/local/lib/python3.7/dist-packages (from IPython->hydrofunctions) (4.4.2)\n",
            "Requirement already satisfied: pexpect in /usr/local/lib/python3.7/dist-packages (from IPython->hydrofunctions) (4.8.0)\n",
            "Requirement already satisfied: pickleshare in /usr/local/lib/python3.7/dist-packages (from IPython->hydrofunctions) (0.7.5)\n",
            "Requirement already satisfied: prompt-toolkit<2.0.0,>=1.0.4 in /usr/local/lib/python3.7/dist-packages (from IPython->hydrofunctions) (1.0.18)\n",
            "Requirement already satisfied: wcwidth in /usr/local/lib/python3.7/dist-packages (from prompt-toolkit<2.0.0,>=1.0.4->IPython->hydrofunctions) (0.2.5)\n",
            "Requirement already satisfied: six>=1.9.0 in /usr/local/lib/python3.7/dist-packages (from prompt-toolkit<2.0.0,>=1.0.4->IPython->hydrofunctions) (1.15.0)\n",
            "Requirement already satisfied: pyparsing!=2.0.4,!=2.1.2,!=2.1.6,>=2.0.1 in /usr/local/lib/python3.7/dist-packages (from matplotlib->hydrofunctions) (3.0.9)\n",
            "Requirement already satisfied: python-dateutil>=2.1 in /usr/local/lib/python3.7/dist-packages (from matplotlib->hydrofunctions) (2.8.2)\n",
            "Requirement already satisfied: cycler>=0.10 in /usr/local/lib/python3.7/dist-packages (from matplotlib->hydrofunctions) (0.11.0)\n",
            "Requirement already satisfied: kiwisolver>=1.0.1 in /usr/local/lib/python3.7/dist-packages (from matplotlib->hydrofunctions) (1.4.3)\n",
            "Requirement already satisfied: pytz>=2017.3 in /usr/local/lib/python3.7/dist-packages (from pandas->hydrofunctions) (2022.1)\n",
            "Requirement already satisfied: ptyprocess>=0.5 in /usr/local/lib/python3.7/dist-packages (from pexpect->IPython->hydrofunctions) (0.7.0)\n",
            "Requirement already satisfied: certifi>=2017.4.17 in /usr/local/lib/python3.7/dist-packages (from requests->hydrofunctions) (2022.6.15)\n",
            "Requirement already satisfied: urllib3!=1.25.0,!=1.25.1,<1.26,>=1.21.1 in /usr/local/lib/python3.7/dist-packages (from requests->hydrofunctions) (1.24.3)\n",
            "Requirement already satisfied: chardet<4,>=3.0.2 in /usr/local/lib/python3.7/dist-packages (from requests->hydrofunctions) (3.0.4)\n",
            "Requirement already satisfied: idna<3,>=2.5 in /usr/local/lib/python3.7/dist-packages (from requests->hydrofunctions) (2.10)\n",
            "Installing collected packages: hydrofunctions\n",
            "Successfully installed hydrofunctions-0.2.3\n",
            "--2022-06-23 23:02:18--  https://github.com/Phonbopit/sarabun-webfont/raw/master/fonts/thsarabunnew-webfont.ttf\n",
            "Resolving github.com (github.com)... 13.114.40.48\n",
            "Connecting to github.com (github.com)|13.114.40.48|:443... connected.\n",
            "HTTP request sent, awaiting response... 302 Found\n",
            "Location: https://raw.githubusercontent.com/Phonbopit/sarabun-webfont/master/fonts/thsarabunnew-webfont.ttf [following]\n",
            "--2022-06-23 23:02:19--  https://raw.githubusercontent.com/Phonbopit/sarabun-webfont/master/fonts/thsarabunnew-webfont.ttf\n",
            "Resolving raw.githubusercontent.com (raw.githubusercontent.com)... 185.199.108.133, 185.199.109.133, 185.199.110.133, ...\n",
            "Connecting to raw.githubusercontent.com (raw.githubusercontent.com)|185.199.108.133|:443... connected.\n",
            "HTTP request sent, awaiting response... 200 OK\n",
            "Length: 98308 (96K) [application/octet-stream]\n",
            "Saving to: ‘thsarabunnew-webfont.ttf’\n",
            "\n",
            "thsarabunnew-webfon 100%[===================>]  96.00K  --.-KB/s    in 0.02s   \n",
            "\n",
            "2022-06-23 23:02:19 (5.29 MB/s) - ‘thsarabunnew-webfont.ttf’ saved [98308/98308]\n",
            "\n"
          ]
        },
        {
          "output_type": "stream",
          "name": "stderr",
          "text": [
            "/usr/local/lib/python3.7/dist-packages/ipykernel_launcher.py:18: MatplotlibDeprecationWarning: \n",
            "The createFontList function was deprecated in Matplotlib 3.2 and will be removed two minor releases later. Use FontManager.addfont instead.\n"
          ]
        }
      ]
    },
    {
      "cell_type": "markdown",
      "metadata": {
        "id": "P_C6PEir65hH"
      },
      "source": [
        "## Earth Engine authenticate and initialize"
      ]
    },
    {
      "cell_type": "code",
      "metadata": {
        "id": "fcIpjFZs65Qr",
        "outputId": "f00957ae-149f-40b3-b446-1a551f55178f",
        "colab": {
          "base_uri": "https://localhost:8080/"
        }
      },
      "source": [
        "!earthengine authenticate"
      ],
      "execution_count": 3,
      "outputs": [
        {
          "output_type": "stream",
          "name": "stdout",
          "text": [
            "To authorize access needed by Earth Engine, open the following URL in a web browser and follow the instructions. If the web browser does not start automatically, please manually browse the URL below.\n",
            "\n",
            "    https://code.earthengine.google.com/client-auth?scopes=https%3A//www.googleapis.com/auth/earthengine%20https%3A//www.googleapis.com/auth/devstorage.full_control&request_id=p52mSW9Uh1brAkf1lMF_YP1f40Wo4nB7-gMGvksWqw0&tc=jpQ4WmNl76be-Xl5fX0VpaqIn4rHLZ0OoQhWycd_VAQ&cc=r9NwnTysMYuxHV6DRM34-AAM7ynGB-eoBfiPSM3ph_M\n",
            "\n",
            "The authorization workflow will generate a code, which you should paste in the box below. \n",
            "Enter verification code: 4/1AX4XfWiNS8o5jzpZmv1IwkQL94kWyXz1i4jUIGv3-WPSwq-TIZKayMye044\n",
            "\n",
            "Successfully saved authorization token.\n"
          ]
        }
      ]
    },
    {
      "cell_type": "code",
      "metadata": {
        "id": "HMhEmjpy6s1v"
      },
      "source": [
        "\n",
        "# # here are the GEE declarations. \n",
        "import ee\n",
        "ee.Initialize()"
      ],
      "execution_count": 4,
      "outputs": []
    },
    {
      "cell_type": "markdown",
      "metadata": {
        "id": "q_vTDFcj7njw"
      },
      "source": [
        "## Import information about study sites"
      ]
    },
    {
      "cell_type": "code",
      "metadata": {
        "id": "mhcsJ4lG7Emf"
      },
      "source": [
        "# load in shapefile of gage locations and attributes\n",
        "loc = 'https://raw.githubusercontent.com/lapidesd/CA_missing_freshet/main/Data/dwr_gages.zip'\n",
        "gages = gpd.read_file(loc).to_crs(epsg = 4326)\n",
        "\n",
        "# load in shapefile of watershed boundaries\n",
        "loc = 'https://raw.githubusercontent.com/lapidesd/CA_missing_freshet/main/Data/dwr_watershed_boundaries.zip'\n",
        "basin_outlines = gpd.read_file(loc).to_crs(epsg = 4326)\n",
        "\n",
        "# merge data together\n",
        "gage_info = gages.merge(basin_outlines,left_on='SITE_NO',\n",
        "            right_on='SITE_NO')\n",
        "\n",
        "# US state map from https://catalog.data.gov/dataset/tiger-line-shapefile-2017-nation-u-s-current-state-and-equivalent-national\n",
        "loc = 'https://raw.githubusercontent.com/lapidesd/CA_missing_freshet/main/Data/state_outline.zip'\n",
        "state_outline = gpd.read_file(loc).to_crs(epsg = 4326)\n",
        "state_outline = state_outline[state_outline.STUSPS=='CA']"
      ],
      "execution_count": 5,
      "outputs": []
    },
    {
      "cell_type": "markdown",
      "metadata": {
        "id": "IS5uJDlC7vlx"
      },
      "source": [
        "## Import SWE data from SNODAS\n",
        "https://nsidc.org/data/g02158#:~:text=SNODAS%20is%20a%20modeling%20and,support%20hydrologic%20modeling%20and%20analysis"
      ]
    },
    {
      "cell_type": "code",
      "metadata": {
        "id": "F3aB36dm7GXI"
      },
      "source": [
        "# import processed SNODAS data (basin means for each study site)\n",
        "loc = 'https://raw.githubusercontent.com/lapidesd/CA_missing_freshet/main/Data/snodas_basin_dwr.csv'\n",
        "snodas_data = pd.read_csv(loc)\n",
        "snodas_data['date'] = pd.to_datetime(snodas_data.date)\n",
        "snodas_data = snodas_data.set_index('date').sort_index()"
      ],
      "execution_count": 6,
      "outputs": []
    },
    {
      "cell_type": "code",
      "metadata": {
        "id": "d82YSHgO7Gcn"
      },
      "source": [
        "# process data from csv format to format with one column for each gage, rows are dates\n",
        "\n",
        "swe_data = ''\n",
        "\n",
        "for gage in snodas_data.sitenum.drop_duplicates():\n",
        "  snowdat = snodas_data[snodas_data.sitenum==gage].drop(columns='sitenum')\n",
        "  snowdat['wy'] = np.where(snowdat.index.month.isin([10,11,12]),\n",
        "                           snowdat.index.year+1,snowdat.index.year)    \n",
        "  if len(swe_data)==0:\n",
        "    swe_data = snowdat[['swe']].rename(columns={'swe':gage}).dropna()\n",
        "  else:\n",
        "    swe_data = swe_data.merge(snowdat[['swe']].rename(columns={'swe':gage}).dropna(),\n",
        "                              left_index=True,right_index=True).drop_duplicates()"
      ],
      "execution_count": 7,
      "outputs": []
    },
    {
      "cell_type": "code",
      "metadata": {
        "id": "D6ny6uMLio82"
      },
      "source": [
        "# calculate melt rate as average decrease rate per day for all days\n",
        "# when SWE decreased in a given year\n",
        "\n",
        "swediff = swe_data.diff()\n",
        "swediff['wy'] = np.where(swediff.index.month.isin([10,11,12]),\n",
        "                          swediff.index.year+1,swediff.index.year)\n",
        "\n",
        "for c in swediff.columns:\n",
        "  swediff[c] = np.where(swediff[c]<0,0,swediff[c])\n",
        "totalmelts = swediff.groupby('wy').sum()\n",
        "swedays = swediff\n",
        "for c in swedays.columns:\n",
        "  if c !='wy':\n",
        "    swedays[c] =  np.where(swedays[c]==0,0,1)\n",
        "meltrates = totalmelts/swedays.groupby('wy').sum()\n",
        "meltrates.to_csv('melt_rates.csv')"
      ],
      "execution_count": 8,
      "outputs": []
    },
    {
      "cell_type": "markdown",
      "source": [
        "## Calculate spring streamflow"
      ],
      "metadata": {
        "id": "67zCJ9NepbZi"
      }
    },
    {
      "cell_type": "code",
      "source": [
        "# get spring streamflow data from NWIS\n",
        "\n",
        "springflow = {} # total spring streamflow\n",
        "years = list(range(2001,2022))\n",
        "\n",
        "for gage in gages.SITE_NO.values:\n",
        "  flow_data = hf.NWIS(gage, 'dv', start_date = '2000-10-01',\n",
        "                      end_date = '2021-10-01').df('00060')\n",
        "  flow_data = flow_data*12**3*2.54**3/100**3*60*60*24\n",
        "  # convert to depth (m/d)\n",
        "  area = (gage_info[gage_info.SITE_NO==gage].SQMI*2.59*1000000).values[0] # are in m2\n",
        "  flow_data = flow_data/area\n",
        "  # convert to mm/day\n",
        "  flow_data = flow_data*1000\n",
        "  \n",
        "  \n",
        "  spring_streamflow = []\n",
        "  for yr in years:\n",
        "    try:\n",
        "      spring_streamflow.append(sum(flow_data.loc[str(yr)+'-04-01':str(yr)+'-09-01'].values)[0])\n",
        "    except:\n",
        "      spring_streamflow.append(np.nan)\n",
        "  springflow[gage] = spring_streamflow"
      ],
      "metadata": {
        "colab": {
          "base_uri": "https://localhost:8080/"
        },
        "id": "pLLVlpOrpfMh",
        "outputId": "25f4766b-c3f5-4a42-958f-86f034560f4c"
      },
      "execution_count": 9,
      "outputs": [
        {
          "output_type": "stream",
          "name": "stdout",
          "text": [
            "Requested data from https://waterservices.usgs.gov/nwis/dv/?format=json%2C1.1&sites=11525500&startDT=2000-10-01&endDT=2021-10-01\n",
            "Requested data from https://waterservices.usgs.gov/nwis/dv/?format=json%2C1.1&sites=11377100&startDT=2000-10-01&endDT=2021-10-01\n",
            "Requested data from https://waterservices.usgs.gov/nwis/dv/?format=json%2C1.1&sites=11270900&startDT=2000-10-01&endDT=2021-10-01\n",
            "Requested data from https://waterservices.usgs.gov/nwis/dv/?format=json%2C1.1&sites=11289650&startDT=2000-10-01&endDT=2021-10-01\n",
            "Requested data from https://waterservices.usgs.gov/nwis/dv/?format=json%2C1.1&sites=11319500&startDT=2000-10-01&endDT=2021-10-01\n",
            "Requested data from https://waterservices.usgs.gov/nwis/dv/?format=json%2C1.1&sites=11335000&startDT=2000-10-01&endDT=2021-10-01\n"
          ]
        }
      ]
    },
    {
      "cell_type": "code",
      "source": [
        "def func(x,a,b):\n",
        "  return a*x+b\n",
        "from scipy import stats\n",
        "\n",
        "# grab April 1 data from each year for each site\n",
        "snow_data = swe_data[(swe_data.index.month==4) &\n",
        "                     (swe_data.index.day==1)]\n",
        "\n",
        "\n",
        "residuals_snodas = {} # residuals in SWE-Q relationship\n",
        "snow_data_perc = {} # SWE percentiles\n",
        "springflow_perc = {} # spring Q percentiles\n",
        "\n",
        "Pdata=''\n",
        "for gage in gages.SITE_NO.values:\n",
        "  \n",
        "  fig,axs = plt.subplots(1,2,figsize = (15,4))\n",
        "  yvals =  springflow[gage][-1*len(snow_data):]\n",
        "  snow_mm = snow_data[int(gage)]\n",
        "  mask = (np.isfinite(yvals)) & (np.isfinite(snow_mm.values))\n",
        "\n",
        "  # get percentiles (I don't think this is used)\n",
        "  springflow_perc[gage] = [stats.percentileofscore(yvals, a, 'rank') for a in yvals]\n",
        "  snow_perc = [stats.percentileofscore(snow_mm, a, 'rank') for a in snow_mm]\n",
        "  snow_data_perc[gage] = snow_perc\n",
        "\n",
        "  # mask by non-inf and non-nan\n",
        "  snow_mm = snow_mm.values[mask]\n",
        "  yvals = np.array(yvals)[mask]\n",
        "\n",
        "  # fit a relationship between SWE and Q\n",
        "  popt, pcov = curve_fit(func, snow_mm, yvals)\n",
        "  residuals = np.array(yvals) - func(np.array(snow_mm), *popt)\n",
        "  \n",
        "  # plot the results\n",
        "  ax = axs[0]\n",
        "  ax.scatter(snow_mm,yvals)\n",
        "  ax.set_xlabel('April 1 snowpack (mm)')\n",
        "  ax.set_ylabel('Spring streamflow (april-june, mm)')\n",
        "  ax.scatter(snow_mm[-1:],springflow[gage][-1:],\n",
        "              c='firebrick')\n",
        "  xvals = np.linspace(np.nanmin(snow_mm),np.nanmax(snow_mm))\n",
        "  ax.plot(xvals,func(xvals,*popt),c='k',ls='--')\n",
        "\n",
        "  ax.set_title(gage)\n",
        "  ax.set_ylim(0,np.nanmax(springflow[gage])*1.1)\n",
        "\n",
        "  ax = axs[1]\n",
        "  ax.scatter(snow_data.index[mask],residuals)#/snow_mm)\n",
        "  ax.set_xlabel('year')\n",
        "  ax.set_ylabel('residual (mm)')\n",
        "  # ax.set_ylim(-1,1)\n",
        "  ax.axhline(0,ls='--',c='k')\n",
        "  ax.scatter(snow_data.index.values[-1:],residuals[-1:]#/snow_mm[-1:]\n",
        "             ,c='firebrick')\n",
        "  residuals_snodas[gage] = np.where(np.isfinite(residuals),#/snow_mm),\n",
        "                                    residuals,#/snow_mm,\n",
        "                                    100)\n",
        "  "
      ],
      "metadata": {
        "id": "s-MVniJWpkza"
      },
      "execution_count": 10,
      "outputs": []
    },
    {
      "cell_type": "markdown",
      "metadata": {
        "id": "8B8lodzd8NTh"
      },
      "source": [
        "## Get ET data from Earth Engine"
      ]
    },
    {
      "cell_type": "code",
      "metadata": {
        "colab": {
          "base_uri": "https://localhost:8080/"
        },
        "id": "oDeoWyN78VnO",
        "outputId": "1d405e0c-cfe1-4665-eed1-5eee4e6e2c14"
      },
      "source": [
        "# convert geopandas basin objects into geojson for Earth Engine\n",
        "\n",
        "geos1 = gage_info.geometry_y.values\n",
        "geos = []\n",
        "for i in range(len(geos1)):\n",
        "  try:\n",
        "    geo_obj = ee.Geometry.Polygon(list(geos1[i].exterior.coords))\n",
        "  except:\n",
        "    geos1[i] = geos1[i][-1]\n",
        "    geo_obj = ee.Geometry.Polygon(list(geos1[i].exterior.coords))\n",
        "  geos.append(geo_obj)\n",
        "names = gage_info.STATION_NM.values\n",
        "\n",
        "start='2000-10-01'\n",
        "stop='2021-10-01'"
      ],
      "execution_count": 11,
      "outputs": [
        {
          "output_type": "stream",
          "name": "stderr",
          "text": [
            "/usr/local/lib/python3.7/dist-packages/ipykernel_launcher.py:9: ShapelyDeprecationWarning: __getitem__ for multi-part geometries is deprecated and will be removed in Shapely 2.0. Use the `geoms` property to access the constituent parts of a multi-part geometry.\n",
            "  if __name__ == '__main__':\n",
            "/usr/local/lib/python3.7/dist-packages/ipykernel_launcher.py:9: ShapelyDeprecationWarning: __getitem__ for multi-part geometries is deprecated and will be removed in Shapely 2.0. Use the `geoms` property to access the constituent parts of a multi-part geometry.\n",
            "  if __name__ == '__main__':\n",
            "/usr/local/lib/python3.7/dist-packages/ipykernel_launcher.py:9: ShapelyDeprecationWarning: __getitem__ for multi-part geometries is deprecated and will be removed in Shapely 2.0. Use the `geoms` property to access the constituent parts of a multi-part geometry.\n",
            "  if __name__ == '__main__':\n"
          ]
        }
      ]
    },
    {
      "cell_type": "code",
      "metadata": {
        "id": "aOvcIQLe7Gif"
      },
      "source": [
        "# code adapted from David Dralle\n",
        "# Flux is stored as 100*mm/day, and duration between samples is 8 days\n",
        "multiplier = 8.0 \n",
        "dataset = ee.ImageCollection(\"projects/pml_evapotranspiration/PML/OUTPUT/PML_V2_8day_v016\");\n",
        "scale = 0.01\n",
        "\n",
        "# mapper for getting single ET raster for each timestep\n",
        "def sumpml(image):\n",
        "  # ET bands into one band\n",
        "  temp = image.select('Es').add(image.select('Ec')).add(image.select('Ei')).multiply(scale)\n",
        "\n",
        "  #get the first band of this new temporary image, rename it to 'ET', \n",
        "  #reproject it, and then multiply by multiplier\n",
        "  temp = temp.select([0], ['ET']).reproject(\n",
        "      crs='EPSG:4326',scale=10000\n",
        "      ).multiply(multiplier)\n",
        "\n",
        "  #temp should now be total ET in mm over the time window between images\n",
        "  #assign the datetime stamp and the index from the original image\n",
        "  temp = temp.set('system:time_start', image.get('system:time_start'))\n",
        "  temp = temp.set('system:index', image.get('system:index'))\n",
        "  return temp\n",
        "\n",
        "#now, actually map the pml image collection w/ this function,\n",
        "# in order to make a new combined ET image collection\n",
        "et = ee.ImageCollection(dataset.map(sumpml).select('ET')).filter(ee.Filter.date(start, stop))\n",
        "et = et.toBands()"
      ],
      "execution_count": 12,
      "outputs": []
    },
    {
      "cell_type": "code",
      "metadata": {
        "id": "sw0piRuP7Gow"
      },
      "source": [
        "# for each study basin, get basin-average ET, P\n",
        "\n",
        "data = {}\n",
        "for i,geo in enumerate(geos):\n",
        "  ft = et.reduceRegion(ee.Reducer.mean(), geo, 10000)\n",
        "  vals = ft.getInfo()\n",
        "  dates = pd.to_datetime([item.split('_')[0] for item in list(vals)])\n",
        "  etvals = [item for item in vals.values()]\n",
        "  etdf = pd.DataFrame({'ET':etvals},index=dates)\n",
        "\n",
        "  # first linearly interpolate to daily and then resample to monthly\n",
        "  etdf = etdf.resample('M').sum()\n",
        "\n",
        "  dataset = ee.ImageCollection(\"OREGONSTATE/PRISM/AN81m\").filter(ee.Filter.date(start, stop))\n",
        "  ppt = dataset.select('ppt').toBands()\n",
        "  ft = ppt.reduceRegion(ee.Reducer.mean(), geo, 4000)\n",
        "  vals = ft.getInfo()\n",
        "  dates = pd.to_datetime([item.split('_')[0] for item in list(vals)],format='%Y%m')\n",
        "  pptvals = [item for item in vals.values()]\n",
        "  pptdf = pd.DataFrame({'P':pptvals},index=dates).resample('M').sum()\n",
        "  \n",
        "  # Combine\n",
        "  df = pd.concat([etdf, pptdf],axis=1)\n",
        "  # df['W'] = df[['P','ET']].min(axis=1)\n",
        "  df['wy'] = [item.year if item.month<10 else item.year+1 for item in df.index]\n",
        "  df['sumP'] = df.groupby('wy')['P'].cumsum()\n",
        "\n",
        "  data[names[i]] = df\n",
        "\n"
      ],
      "execution_count": 13,
      "outputs": []
    },
    {
      "cell_type": "code",
      "source": [
        "# # import modis data--this is very slow--just import finished data in next block\n",
        "\n",
        "# # code below adapted from https://colab.research.google.com/github/google/earthengine-community/blob/master/tutorials/intro-to-python-api-guiattard/index.ipynb\n",
        "\n",
        "modis = ee.ImageCollection('MODIS/006/MOD16A2')\n",
        "\n",
        "# Initial date of interest (inclusive).\n",
        "i_date = '2000-10-01'\n",
        "\n",
        "# Final date of interest (exclusive).\n",
        "f_date = '2021-10-01'\n",
        "\n",
        "pet_modis = modis.select('PET').filterDate(i_date, f_date) #kg/m^2/8day\n",
        "et_modis = modis.select('ET').filterDate(i_date, f_date) #kg/m^2/8day\n",
        "\n",
        "scale = 1000  # scale in meters\n",
        "\n",
        "def addTime(image) :\n",
        "  return image.addBands(image.metadata('system:time_start'))\n",
        "\n",
        "def reduceregions(image):\n",
        "  meanET = image.reduceRegion(ee.Reducer.mean(),geo,1000)\n",
        "  return image.set(meanET)\n",
        "\n",
        "modis_data = {}\n",
        "\n",
        "for i,geo in enumerate(geos):\n",
        "  # et_geo = et_modis.filterBounds(geo).filterDate('2000-10-1','2021-10-01').select('ET')\n",
        "  # et_region = et_geo.map(addTime).map(reduceregions)\n",
        "\n",
        "  # etvals = et_region.aggregate_array('ET').getInfo()\n",
        "  # timevals = et_region.aggregate_array('system:time_start').getInfo()\n",
        "  # timevals = [ee.Date(t).format('YYYY-MM-dd').getInfo() for t in timevals]\n",
        "  et_modis = et_modis.select('ET')\n",
        "  et1 = et_modis.toBands()\n",
        "  ft = et1.reduceRegion(ee.Reducer.mean(), geo, 10000)\n",
        "  vals = ft.getInfo()\n",
        "  dates = pd.to_datetime([item[:10].replace('_','-')\n",
        "                                      for item in list(vals)])\n",
        "  etvals = [item for item in vals.values()]\n",
        "  etdf = pd.DataFrame({'ET':etvals},index=dates)\n",
        "  etdf = etdf.resample('M').sum()\n",
        "  etdf = etdf/8*1000/100**3*1000\n",
        "  etdf = etdf.resample('M').sum()\n",
        "\n",
        "  dataset = ee.ImageCollection(\"OREGONSTATE/PRISM/AN81m\").filter(ee.Filter.date(start, stop))\n",
        "  ppt = dataset.select('ppt').toBands()\n",
        "  ft = ppt.reduceRegion(ee.Reducer.mean(), geo, 4000)\n",
        "  vals = ft.getInfo()\n",
        "  dates = pd.to_datetime([item.split('_')[0] for item in list(vals)],format='%Y%m')\n",
        "  pptvals = [item for item in vals.values()]\n",
        "  pptdf = pd.DataFrame({'P':pptvals},index=dates).resample('M').sum()\n",
        "  \n",
        "  # Combine\n",
        "  df = pd.concat([etdf, pptdf],axis=1)\n",
        "  # df['W'] = df[['P','ET']].min(axis=1)\n",
        "  df['wy'] = [item.year if item.month<10 else item.year+1 for item in df.index]\n",
        "  df['sumP'] = df.groupby('wy')['P'].cumsum()\n",
        "\n",
        "#   # This is not where deficit is calculated in the code\n",
        "#   deficit = [0]\n",
        "#   counter = 0\n",
        "#   # Wang-Erlandsson deficit calculation\n",
        "#   for idx,row in df.iterrows():\n",
        "#     A = row.ET - row.P\n",
        "#     next = np.max([0, deficit[counter] + A])\n",
        "#     deficit.append(next)\n",
        "#     counter = counter + 1\n",
        "#   df['D'] = deficit[1:]\n",
        "  modis_data[names[i]] = df\n",
        "\n",
        "import pickle\n",
        "output = open('modis_data.pkl', 'wb')\n",
        "pickle.dump(modis_data,output)\n",
        "from google.colab import files\n",
        "files.download('modis_data.pkl')\n",
        "\n",
        "for key in modis_data.keys():\n",
        "  sitenum = gages[gages.STATION_NM==key].SITE_NO.values[0]\n",
        "  # modis_data[key].to_csv('modis_data_'+sitenum+'.csv')"
      ],
      "metadata": {
        "id": "amKkHa06Bc1G",
        "colab": {
          "base_uri": "https://localhost:8080/",
          "height": 17
        },
        "outputId": "dd55eafa-77e7-4435-eff3-40be02d581cf"
      },
      "execution_count": 14,
      "outputs": [
        {
          "output_type": "display_data",
          "data": {
            "text/plain": [
              "<IPython.core.display.Javascript object>"
            ],
            "application/javascript": [
              "\n",
              "    async function download(id, filename, size) {\n",
              "      if (!google.colab.kernel.accessAllowed) {\n",
              "        return;\n",
              "      }\n",
              "      const div = document.createElement('div');\n",
              "      const label = document.createElement('label');\n",
              "      label.textContent = `Downloading \"${filename}\": `;\n",
              "      div.appendChild(label);\n",
              "      const progress = document.createElement('progress');\n",
              "      progress.max = size;\n",
              "      div.appendChild(progress);\n",
              "      document.body.appendChild(div);\n",
              "\n",
              "      const buffers = [];\n",
              "      let downloaded = 0;\n",
              "\n",
              "      const channel = await google.colab.kernel.comms.open(id);\n",
              "      // Send a message to notify the kernel that we're ready.\n",
              "      channel.send({})\n",
              "\n",
              "      for await (const message of channel.messages) {\n",
              "        // Send a message to notify the kernel that we're ready.\n",
              "        channel.send({})\n",
              "        if (message.buffers) {\n",
              "          for (const buffer of message.buffers) {\n",
              "            buffers.push(buffer);\n",
              "            downloaded += buffer.byteLength;\n",
              "            progress.value = downloaded;\n",
              "          }\n",
              "        }\n",
              "      }\n",
              "      const blob = new Blob(buffers, {type: 'application/binary'});\n",
              "      const a = document.createElement('a');\n",
              "      a.href = window.URL.createObjectURL(blob);\n",
              "      a.download = filename;\n",
              "      div.appendChild(a);\n",
              "      a.click();\n",
              "      div.remove();\n",
              "    }\n",
              "  "
            ]
          },
          "metadata": {}
        },
        {
          "output_type": "display_data",
          "data": {
            "text/plain": [
              "<IPython.core.display.Javascript object>"
            ],
            "application/javascript": [
              "download(\"download_44e75bee-8eef-41d9-84a1-f3fc7c580bc3\", \"modis_data.pkl\", 66586)"
            ]
          },
          "metadata": {}
        }
      ]
    },
    {
      "cell_type": "code",
      "metadata": {
        "id": "K43KNAjvPliW"
      },
      "source": [
        "# import MODIS data for each site, save in dictionary\n",
        "\n",
        "# base_loc = 'https://raw.githubusercontent.com/lapidesd/CA_missing_freshet/main/Data/MODIS_and_PRISM_data/modis_data_'\n",
        "\n",
        "# modis_data = {key:0 for key in gages.STATION_NM.values}\n",
        "\n",
        "# for site in gages.STATION_NM.values:\n",
        "#   sitenum = gages[gages.STATION_NM==site].SITE_NO.values[0]\n",
        "#   site_modis = pd.read_csv(base_loc+sitenum+'.csv')\n",
        "#   site_modis['Unnamed: 0'] = pd.to_datetime(site_modis['Unnamed: 0'])\n",
        "#   site_modis = site_modis.set_index('Unnamed: 0')\n",
        "#   modis_data[site] = site_modis"
      ],
      "execution_count": 15,
      "outputs": []
    },
    {
      "cell_type": "code",
      "metadata": {
        "id": "9UJm8JQkRvQu"
      },
      "source": [
        "# calculate parameters for bias-correcting MODIS data based on PML V2\n",
        "\n",
        "def func(modis,a,b):\n",
        "  return a*modis+b\n",
        "\n",
        "r2vals=[]\n",
        "modis_correct_params = {}\n",
        "for site in gages.STATION_NM.values:\n",
        "  fig, ax = plt.subplots(1,2,figsize = (12,6))\n",
        "\n",
        "  # combine MODIS and PML ET data into single dataframe\n",
        "  pml = data[site][['ET']].rename(columns={'ET':'pml'})\n",
        "  modis = modis_data[site][['ET']].rename(columns={'ET':'modis'})\n",
        "  merged = pml.merge(modis,left_index=True,\n",
        "                     right_index=True,how='inner').dropna()\n",
        "\n",
        "  # find a linear fit between PML and MODIS\n",
        "  popt, pcov = curve_fit(func, merged.modis, merged.pml)\n",
        "  xvals = np.linspace(0,max(merged.pml))\n",
        "  ypredict = func(xvals,*popt)\n",
        "\n",
        "  # plot results\n",
        "  ax1=ax[0]\n",
        "  merged['wy'] = np.where(merged.index.month.isin([10,11,12]),\n",
        "                          merged.index.year+1,merged.index.year)\n",
        "  merged_spring = merged[merged.index.month.isin([4,5,6,7])].groupby('wy').sum()\n",
        "  ax1.plot(merged_spring.modis,label='Modis')\n",
        "  ax1.plot(merged_spring.pml,label='pml')\n",
        "  ax1.legend()\n",
        "  ax1.set_ylabel('Spring ET (mm)')\n",
        "\n",
        "  ax0=ax[1]\n",
        "  ax0.plot(xvals, ypredict)\n",
        "  ax0.scatter(merged.modis,merged.pml)\n",
        "  ax0.set_xlabel('MODIS')\n",
        "  ax0.set_ylabel('PML')\n",
        "  ax0.set_title(site)\n",
        "\n",
        "  # find R2 value\n",
        "  residuals = merged.pml - func(merged.modis, *popt)\n",
        "  ss_res = np.sum(residuals**2)\n",
        "  ss_tot = np.sum((merged.pml-np.mean(merged.pml))**2)\n",
        "  r_squared = 1 - (ss_res / ss_tot)\n",
        "  std = np.std(residuals)\n",
        "  r2vals.append(r_squared)\n",
        "\n",
        "  # save parameters\n",
        "  modis_correct_params[site] = popt"
      ],
      "execution_count": 16,
      "outputs": []
    },
    {
      "cell_type": "code",
      "source": [
        "# print median R2 value for bias-correcting linear fit\n",
        "np.nanpercentile(r2vals,50)"
      ],
      "metadata": {
        "colab": {
          "base_uri": "https://localhost:8080/"
        },
        "id": "FpRqMm1QemYt",
        "outputId": "372dec5a-0a7e-4e44-f380-217eb609166a"
      },
      "execution_count": 17,
      "outputs": [
        {
          "output_type": "execute_result",
          "data": {
            "text/plain": [
              "0.5659910824507122"
            ]
          },
          "metadata": {},
          "execution_count": 17
        }
      ]
    },
    {
      "cell_type": "code",
      "source": [
        "etdf"
      ],
      "metadata": {
        "colab": {
          "base_uri": "https://localhost:8080/",
          "height": 424
        },
        "id": "01FGLWXCrHuP",
        "outputId": "4f9c46f7-d192-498b-d270-ef66682ae58e"
      },
      "execution_count": 18,
      "outputs": [
        {
          "output_type": "execute_result",
          "data": {
            "text/plain": [
              "                    ET\n",
              "2001-01-31   50.522326\n",
              "2001-02-28   39.269989\n",
              "2001-03-31   72.959089\n",
              "2001-04-30   63.583839\n",
              "2001-05-31  104.078015\n",
              "...                ...\n",
              "2021-05-31   98.305178\n",
              "2021-06-30   65.614210\n",
              "2021-07-31   31.712420\n",
              "2021-08-31   35.861119\n",
              "2021-09-30   32.073854\n",
              "\n",
              "[249 rows x 1 columns]"
            ],
            "text/html": [
              "\n",
              "  <div id=\"df-88beab86-335a-4da1-94a4-5add61306979\">\n",
              "    <div class=\"colab-df-container\">\n",
              "      <div>\n",
              "<style scoped>\n",
              "    .dataframe tbody tr th:only-of-type {\n",
              "        vertical-align: middle;\n",
              "    }\n",
              "\n",
              "    .dataframe tbody tr th {\n",
              "        vertical-align: top;\n",
              "    }\n",
              "\n",
              "    .dataframe thead th {\n",
              "        text-align: right;\n",
              "    }\n",
              "</style>\n",
              "<table border=\"1\" class=\"dataframe\">\n",
              "  <thead>\n",
              "    <tr style=\"text-align: right;\">\n",
              "      <th></th>\n",
              "      <th>ET</th>\n",
              "    </tr>\n",
              "  </thead>\n",
              "  <tbody>\n",
              "    <tr>\n",
              "      <th>2001-01-31</th>\n",
              "      <td>50.522326</td>\n",
              "    </tr>\n",
              "    <tr>\n",
              "      <th>2001-02-28</th>\n",
              "      <td>39.269989</td>\n",
              "    </tr>\n",
              "    <tr>\n",
              "      <th>2001-03-31</th>\n",
              "      <td>72.959089</td>\n",
              "    </tr>\n",
              "    <tr>\n",
              "      <th>2001-04-30</th>\n",
              "      <td>63.583839</td>\n",
              "    </tr>\n",
              "    <tr>\n",
              "      <th>2001-05-31</th>\n",
              "      <td>104.078015</td>\n",
              "    </tr>\n",
              "    <tr>\n",
              "      <th>...</th>\n",
              "      <td>...</td>\n",
              "    </tr>\n",
              "    <tr>\n",
              "      <th>2021-05-31</th>\n",
              "      <td>98.305178</td>\n",
              "    </tr>\n",
              "    <tr>\n",
              "      <th>2021-06-30</th>\n",
              "      <td>65.614210</td>\n",
              "    </tr>\n",
              "    <tr>\n",
              "      <th>2021-07-31</th>\n",
              "      <td>31.712420</td>\n",
              "    </tr>\n",
              "    <tr>\n",
              "      <th>2021-08-31</th>\n",
              "      <td>35.861119</td>\n",
              "    </tr>\n",
              "    <tr>\n",
              "      <th>2021-09-30</th>\n",
              "      <td>32.073854</td>\n",
              "    </tr>\n",
              "  </tbody>\n",
              "</table>\n",
              "<p>249 rows × 1 columns</p>\n",
              "</div>\n",
              "      <button class=\"colab-df-convert\" onclick=\"convertToInteractive('df-88beab86-335a-4da1-94a4-5add61306979')\"\n",
              "              title=\"Convert this dataframe to an interactive table.\"\n",
              "              style=\"display:none;\">\n",
              "        \n",
              "  <svg xmlns=\"http://www.w3.org/2000/svg\" height=\"24px\"viewBox=\"0 0 24 24\"\n",
              "       width=\"24px\">\n",
              "    <path d=\"M0 0h24v24H0V0z\" fill=\"none\"/>\n",
              "    <path d=\"M18.56 5.44l.94 2.06.94-2.06 2.06-.94-2.06-.94-.94-2.06-.94 2.06-2.06.94zm-11 1L8.5 8.5l.94-2.06 2.06-.94-2.06-.94L8.5 2.5l-.94 2.06-2.06.94zm10 10l.94 2.06.94-2.06 2.06-.94-2.06-.94-.94-2.06-.94 2.06-2.06.94z\"/><path d=\"M17.41 7.96l-1.37-1.37c-.4-.4-.92-.59-1.43-.59-.52 0-1.04.2-1.43.59L10.3 9.45l-7.72 7.72c-.78.78-.78 2.05 0 2.83L4 21.41c.39.39.9.59 1.41.59.51 0 1.02-.2 1.41-.59l7.78-7.78 2.81-2.81c.8-.78.8-2.07 0-2.86zM5.41 20L4 18.59l7.72-7.72 1.47 1.35L5.41 20z\"/>\n",
              "  </svg>\n",
              "      </button>\n",
              "      \n",
              "  <style>\n",
              "    .colab-df-container {\n",
              "      display:flex;\n",
              "      flex-wrap:wrap;\n",
              "      gap: 12px;\n",
              "    }\n",
              "\n",
              "    .colab-df-convert {\n",
              "      background-color: #E8F0FE;\n",
              "      border: none;\n",
              "      border-radius: 50%;\n",
              "      cursor: pointer;\n",
              "      display: none;\n",
              "      fill: #1967D2;\n",
              "      height: 32px;\n",
              "      padding: 0 0 0 0;\n",
              "      width: 32px;\n",
              "    }\n",
              "\n",
              "    .colab-df-convert:hover {\n",
              "      background-color: #E2EBFA;\n",
              "      box-shadow: 0px 1px 2px rgba(60, 64, 67, 0.3), 0px 1px 3px 1px rgba(60, 64, 67, 0.15);\n",
              "      fill: #174EA6;\n",
              "    }\n",
              "\n",
              "    [theme=dark] .colab-df-convert {\n",
              "      background-color: #3B4455;\n",
              "      fill: #D2E3FC;\n",
              "    }\n",
              "\n",
              "    [theme=dark] .colab-df-convert:hover {\n",
              "      background-color: #434B5C;\n",
              "      box-shadow: 0px 1px 3px 1px rgba(0, 0, 0, 0.15);\n",
              "      filter: drop-shadow(0px 1px 2px rgba(0, 0, 0, 0.3));\n",
              "      fill: #FFFFFF;\n",
              "    }\n",
              "  </style>\n",
              "\n",
              "      <script>\n",
              "        const buttonEl =\n",
              "          document.querySelector('#df-88beab86-335a-4da1-94a4-5add61306979 button.colab-df-convert');\n",
              "        buttonEl.style.display =\n",
              "          google.colab.kernel.accessAllowed ? 'block' : 'none';\n",
              "\n",
              "        async function convertToInteractive(key) {\n",
              "          const element = document.querySelector('#df-88beab86-335a-4da1-94a4-5add61306979');\n",
              "          const dataTable =\n",
              "            await google.colab.kernel.invokeFunction('convertToInteractive',\n",
              "                                                     [key], {});\n",
              "          if (!dataTable) return;\n",
              "\n",
              "          const docLinkHtml = 'Like what you see? Visit the ' +\n",
              "            '<a target=\"_blank\" href=https://colab.research.google.com/notebooks/data_table.ipynb>data table notebook</a>'\n",
              "            + ' to learn more about interactive tables.';\n",
              "          element.innerHTML = '';\n",
              "          dataTable['output_type'] = 'display_data';\n",
              "          await google.colab.output.renderOutput(dataTable, element);\n",
              "          const docLink = document.createElement('div');\n",
              "          docLink.innerHTML = docLinkHtml;\n",
              "          element.appendChild(docLink);\n",
              "        }\n",
              "      </script>\n",
              "    </div>\n",
              "  </div>\n",
              "  "
            ]
          },
          "metadata": {},
          "execution_count": 18
        }
      ]
    },
    {
      "cell_type": "code",
      "metadata": {
        "id": "s67o1dv_9Dw8"
      },
      "source": [
        "# since PML dataset ends in 2020, extend with bias-corrected MODIS\n",
        "\n",
        "for i in range(len(gages)):\n",
        "  \n",
        "  # get MODIS data\n",
        "  site = gages.STATION_NM.values[i]\n",
        "  sitedata = modis_data[site]\n",
        "  etdf = sitedata[['ET','wy']]\n",
        "  etdf = etdf.resample('M').sum()\n",
        "  \n",
        "  # get PML data\n",
        "  sitedata_pml = data[site]\n",
        "  etdf_pml = sitedata_pml[['ET','wy']].resample('M').sum()\n",
        "  etdf_pml = etdf_pml[etdf_pml.ET>0]\n",
        "  etdf = etdf.reset_index()[~(etdf.reset_index()['index'].isin(etdf_pml.index))]\n",
        "\n",
        "  # use parameters from linear fit (above) to extend PML using bias-corrected MODIS\n",
        "  etdf['ET'] = func(etdf.ET,*modis_correct_params[site])\n",
        "  etdf = etdf.set_index('index')\n",
        "  df = pd.concat([etdf_pml,etdf])\n",
        "  wys = df.wy.drop_duplicates()\n",
        "  ets = []\n",
        "  for yr in wys:\n",
        "    ets.append(df.loc['04-01-'+str(yr):'07-01-'+str(yr)].ET.sum())\n",
        "  data[site]['ET_with_modis'] = df.ET\n",
        "\n",
        "  # plot resulting ET timeseries\n",
        "  fig,axs = plt.subplots(1,2,figsize = (12,3))\n",
        "  ax=axs[0]\n",
        "  ax.plot(df.ET)\n",
        "  ax.set_ylabel('PML extend with bias-corrected MODIS')\n",
        "  ax.set_title(site)\n",
        "\n",
        "  ax=axs[1]\n",
        "  df_spring = df[df.index.month.isin([4,5,6,7])].groupby('wy').sum()\n",
        "  wy_P = data[site].groupby('wy').sum().P\n",
        "  ET_P = df_spring.values.flatten()/data[site].groupby('wy').sum().P.values.flatten()\n",
        "  ax.plot(df_spring.index,ET_P)\n",
        "  ax.set_ylabel('Spring ET/WY P')"
      ],
      "execution_count": 19,
      "outputs": []
    },
    {
      "cell_type": "markdown",
      "metadata": {
        "id": "4A66AP4m8xLr"
      },
      "source": [
        "## Import soil storage capacity information"
      ]
    },
    {
      "cell_type": "code",
      "metadata": {
        "id": "yPZ4xmZe8wOA"
      },
      "source": [
        "# soil storage capacity\n",
        "Ssoil = ee.Image('users/ericamccormick/20_RockMoisture/products/gNATSGO/Ssoil_500m')\n",
        "soildepth = {site:0 for site in gages.SITE_NO.values}\n",
        "for i in range(len(soildepth.keys())):\n",
        "  ft = Ssoil.reduceRegion(ee.Reducer.mean(), geos[i], 100)\n",
        "  soildepth[gages.SITE_NO.values[i]] = ft.getInfo()"
      ],
      "execution_count": 20,
      "outputs": []
    },
    {
      "cell_type": "code",
      "metadata": {
        "colab": {
          "base_uri": "https://localhost:8080/"
        },
        "id": "gUQ0CMuyLZBS",
        "outputId": "0ee27746-9561-4f07-de9d-89bffe6647ef"
      },
      "source": [
        "# root zone storage capacity\n",
        "Sr = ee.Image('users/ericamccormick/20_RockMoisture/deficit/root-zone/Sr2003_2017_Mask')\n",
        "Srz = {site:0 for site in gages.SITE_NO.values}\n",
        "for i in range(len(Srz.keys())):\n",
        "  ft = Sr.reduceRegion(ee.Reducer.mean(), geos[i], 100)\n",
        "  Srz[gages.SITE_NO.values[i]] = ft.getInfo()\n",
        "Srz"
      ],
      "execution_count": 21,
      "outputs": [
        {
          "output_type": "execute_result",
          "data": {
            "text/plain": [
              "{'11270900': {'S_R_snow_corr': 631.8903482818082},\n",
              " '11289650': {'S_R_snow_corr': 435.5146610095138},\n",
              " '11319500': {'S_R_snow_corr': 378.26942630257815},\n",
              " '11335000': {'S_R_snow_corr': 456.3574315488715},\n",
              " '11377100': {'S_R_snow_corr': 384.33740167546426},\n",
              " '11525500': {'S_R_snow_corr': 382.88597448368785}}"
            ]
          },
          "metadata": {},
          "execution_count": 21
        }
      ]
    },
    {
      "cell_type": "markdown",
      "metadata": {
        "id": "oeJwqkxD7Hau"
      },
      "source": [
        "## Calculate deficit from mass balance"
      ]
    },
    {
      "cell_type": "code",
      "metadata": {
        "id": "3G5DClic7N11",
        "colab": {
          "base_uri": "https://localhost:8080/"
        },
        "outputId": "ae204251-b90d-4965-b349-025f838dc6c6"
      },
      "source": [
        "# Wang-Erlandsson storage deficit mass balance approach \n",
        "# including snow from SNODAS\n",
        "\n",
        "for site in gages.STATION_NM.values:\n",
        "  gageid = gages[gages.STATION_NM==site].SITE_NO.values[0]\n",
        "  \n",
        "  temp = data[site]\n",
        "  snowdat = swe_data[[int(gageid)]].resample('M').last().rename(columns={int(gageid):'snodas'}).fillna(0)\n",
        "  try:\n",
        "    temp = temp.drop(columns=['snodas',])\n",
        "  except:\n",
        "    print('')\n",
        "  temp = temp.merge(snowdat,left_index=True,right_index=True,\n",
        "                    how='left')\n",
        "  \n",
        "  # find snowfall as all positive changes in SWE\n",
        "  # and snowmelt is all negative changes in SWE\n",
        "  snowchange = temp.snodas.diff()\n",
        "  snowchange = np.where(np.isnan(snowchange),0,snowchange)\n",
        "\n",
        "  # calculate total water inputs as P (take out snowfall, add in snowmelt)\n",
        "  P_adj = temp.P-snowchange\n",
        "\n",
        "  df = temp\n",
        "  deficit = [0]\n",
        "  counter = 0\n",
        "  gage = gageid\n",
        "\n",
        "  # deficit calculation\n",
        "  for idx,row in df.fillna(0).iterrows():\n",
        "    if np.isnan(row.snodas):\n",
        "      deficit.append(0)\n",
        "      counter += 1\n",
        "    else:\n",
        "      A = row.ET_with_modis - P_adj.loc[idx] \n",
        "      next = np.max([0, deficit[counter] + A])\n",
        "      deficit.append(next)\n",
        "      counter = counter + 1\n",
        "\n",
        "  df['D_snodas'] = deficit[1:]\n",
        "\n",
        "  data[site] = df"
      ],
      "execution_count": 22,
      "outputs": [
        {
          "output_type": "stream",
          "name": "stdout",
          "text": [
            "\n",
            "\n",
            "\n",
            "\n",
            "\n",
            "\n"
          ]
        }
      ]
    },
    {
      "cell_type": "code",
      "metadata": {
        "id": "cxLO6nbO50ED"
      },
      "source": [
        "# plot running deficit calculation at all sites\n",
        "\n",
        "f,axs = plt.subplots(3,5,figsize=(20,5))#,sharey=True)\n",
        "axs[0][0].set_ylabel('Deficit (mm)')\n",
        "axs[1][0].set_ylabel('Deficit (mm)')\n",
        "# axs[2][0].set_ylabel('Deficit (mm)')\n",
        "axlab = [[0,0],[0,1],[0,2],[0,3],[0,4],\n",
        "         [1,0],[1,1],[1,2],[1,3],[1,4],\n",
        "         [2,0],[2,1],[2,2],[2,3],[2,4],\n",
        "         [3,0],[3,1],[3,2],[3,3],[3,4],\n",
        "         [4,0],[4,1],[4,2],[4,3],\n",
        "         [5,0],[5,1],[5,2],[5,3],\n",
        "         [6,0],[6,1],[6,2],[6,3],\n",
        "         ]\n",
        "for i in range(len(gages)):\n",
        "  ax = axs[axlab[i][0]][axlab[i][1]]\n",
        "  temp = data[gages.STATION_NM.values[i]]\n",
        "  temp.D_snodas.plot(ax=ax,label=None)\n",
        "  # ax.scatter(temp[temp.index.month==10].index,temp[temp.index.month==10].D_snodas,\n",
        "  #            c='firebrick',label = 'October deficit')\n",
        "  # ax.scatter(temp[temp.index.month==4].index,temp[temp.index.month==4].D_snodas,\n",
        "  #            c='goldenrod',label = 'Min. deficit')\n",
        "  if i==0:\n",
        "    ax.legend()\n",
        "  # temp[temp.index.month==4].D_snodas.plot(ax=ax,c='k',lw=1,label=None)\n",
        "  temp['wy_shift'] = temp.index.year+1\n",
        "  maxDates = temp.loc[temp[temp.index.month.isin([8,9,10,11,12,])].groupby(\"wy_shift\")[\"D_snodas\"].idxmax()].iloc[1:]\n",
        "  minDates = temp.loc[temp[temp.index.month.isin([1,2,3,4,5,6])].groupby(\"wy\")[\"D_snodas\"].idxmin()].iloc[1:]\n",
        "  maxDates.D_snodas.plot(ax=ax,c='k',lw=1,label=None)\n",
        "  minDates.D_snodas.plot(ax=ax,c='k',lw=1,label=None)\n",
        "  ax.scatter(maxDates.index,maxDates.D_snodas,c='firebrick',label='Max. deficit')\n",
        "  ax.scatter(minDates.index,minDates.D_snodas,c='goldenrod',label='Min. deficit')\n",
        "  ax.set_title(gages.SITE_NO.values[i])\n",
        "  ax.axhline(soildepth[gages.SITE_NO.values[i]]['b1'],c='k',ls='--')\n",
        "f.tight_layout()"
      ],
      "execution_count": 23,
      "outputs": []
    },
    {
      "cell_type": "markdown",
      "metadata": {
        "id": "U8q-DGd3UlCP"
      },
      "source": [
        "## Aggregate all data for all sites"
      ]
    },
    {
      "cell_type": "code",
      "metadata": {
        "id": "Uwp3o538n7WR"
      },
      "source": [
        "# calculate snowfall by using a temperature threshold to decide\n",
        "# if precip is snow or rain\n",
        "# this matches well with just using the snow data to determine if\n",
        "# snow accumulated or not, so we will just use that\n",
        "for site in gages.SITE_NO.values:\n",
        "  sitenm = gages[gages.SITE_NO==str(site)].STATION_NM.values[0]\n",
        "  df = data[sitenm]\n",
        "  # temp = modisT[[str(site)]].rename(columns={str(site):'modisT'})\n",
        "  # df = df.merge(temp,left_index=True,right_index=True)\n",
        "  # df['snowfall_t'] = np.where(df.modisT<=0,df.P,0)\n",
        "  data[sitenm] = df\n"
      ],
      "execution_count": 24,
      "outputs": []
    },
    {
      "cell_type": "code",
      "metadata": {
        "id": "h13pfQYhvvz1"
      },
      "source": [
        "# save summary data for each study site\n",
        "\n",
        "def fun(SWE,a,b):\n",
        "  return a*SWE+b\n",
        "def fun1(X,a,b,c):\n",
        "  # print(X)\n",
        "  SWE,D = X\n",
        "  return a*SWE+b*D+c\n",
        "\n",
        "fitparams_swe = {s:0 for s in gages.SITE_NO.values}\n",
        "fitparams_sweD = {s:0 for s in gages.SITE_NO.values}\n",
        "Q2021 = {s:0 for s in gages.SITE_NO.values}\n",
        "\n",
        "for key in gages.STATION_NM.values:\n",
        "  sitenum = gages[gages.STATION_NM==key].SITE_NO.values[0]\n",
        "  df = data[key]\n",
        "  wyP = df.groupby('wy').sum().P.values.flatten()\n",
        "  # df['Temp'] = modisT[sitenum]\n",
        "  aprSWE = df[df.index.month==3].snodas\n",
        "  df['snowfall'] = df.snodas.fillna(method='bfill')\n",
        "  df['snowfall'] = df.snowfall.diff()\n",
        "  df['snowfall'] = np.where(df.snowfall<0,0,df.snowfall)\n",
        "  df['snowfall'] = df.snowfall.fillna(value=0)\n",
        "  df['P_adj'] = df.P-df.snowfall\n",
        "  df['P_adj'] = np.where(df.P_adj<0,0,df.P_adj)\n",
        "  df['spring_rain'] = np.where(df.index.month.isin([1,2,3,8,9,10,11,12]),\n",
        "                               0,df.P_adj)\n",
        "  df['winter_P'] = np.where(df.index.month.isin([10,11,12,1,2,3]),\n",
        "                            df.P,0)\n",
        "  winter_rain = df[df.index.month.isin([10,11,12,1,2,3])].groupby('wy').sum()\n",
        "  winter_rain = winter_rain.P-winter_rain.snowfall\n",
        "  wy_precip_adj = df.groupby('wy').sum().P_adj.values\n",
        "  wys = df.wy.drop_duplicates().values.flatten()\n",
        "  wySWE = df.groupby('wy').sum().snowfall.values.flatten()\n",
        "  # wySWE_t = df.groupby('wy').sum().snowfall_t.values.flatten()\n",
        "  wyET = df[df.index.month.isin([4,5,6,7])].groupby('wy').sum().ET.values.flatten()\n",
        "  winterET = df[df.index.month.isin([10,11,12,1,2,3])].groupby('wy').sum().ET.values.flatten()\n",
        "  octD = df[df.index.month==10].D_snodas.values.flatten()\n",
        "  aprD = df[df.index.month==4].D_snodas.values.flatten()\n",
        "  df['wy_shift'] = np.where(df.index.isin([9,10,11,12]),\n",
        "                                df.index.year+1,df.index.year)\n",
        "  maxD = df[df.index.month.isin([8,9,10,11,12])].groupby('wy_shift').max().D_snodas.values.flatten()[1:]\n",
        "  minD = df[df.index.month.isin([8,9,10,11,12])].groupby('wy_shift').min().D_snodas.values.flatten()[1:]\n",
        "\n",
        "  site_wy_info = pd.DataFrame.from_dict({'wy':wys,\n",
        "                                            'P':wyP,\n",
        "                                            'adjP':wy_precip_adj,\n",
        "                                            'spring_rain':df.groupby('wy').sum().spring_rain.values,\n",
        "                                            'winter_P':df.groupby('wy').sum().winter_P.values,\n",
        "                                            'winter_rain':winter_rain,\n",
        "                                            # 'snow_frac':snow_fraction[sitenum].values,\n",
        "                                            'total_swe':wySWE,\n",
        "                                            # 'snowfall_t':wySWE_t,\n",
        "                                            'springET':wyET,\n",
        "                                            'AprSWE': aprSWE.values.flatten(),\n",
        "                                            'winterET':winterET,\n",
        "                                            'maxDeficit':maxD,\n",
        "                                            'minDeficit':minD,\n",
        "                                            'octDeficit':octD,\n",
        "                                            'aprDeficit':aprD})\n",
        "  \n",
        "  site_sub = site_wy_info[['AprSWE','octDeficit','winter_rain','winter_P']].iloc[3:]\n",
        "\n",
        "  popt,pcov = curve_fit(fun1,(site_sub.AprSWE,site_sub.winter_rain),\n",
        "                        springflow[sitenum][-len(site_sub):])\n",
        "  yfit = fun1((site_sub.AprSWE,site_sub.winter_rain),*popt)\n",
        "  fitparams_swe[sitenum] = [popt,yfit.values[-1]]\n",
        "\n",
        "  popt,pcov = curve_fit(fun1,(site_sub.AprSWE.values,site_sub.octDeficit.values/site_sub.winter_P.values),\n",
        "                        springflow[sitenum][-len(site_sub):])\n",
        "  yfit = fun1((site_sub.AprSWE,site_sub.octDeficit/site_sub.winter_P.values),*popt)\n",
        "  fitparams_sweD[sitenum] = [popt,yfit.values[-1]]\n",
        "  Q2021[sitenum] = springflow[sitenum][-1]\n",
        "  \n",
        "  plt.scatter(springflow[sitenum][-len(site_sub):],yfit)\n",
        "  plt.scatter([(springflow[sitenum][-len(site_sub):])[-1]],[yfit.values[-1]],c='firebrick')\n",
        "  plt.title(key)\n",
        "  plt.plot([0,max(yfit)],[0,max(yfit)],\n",
        "           c='k',ls='--')\n",
        "  plt.show()\n",
        "\n",
        "  # site_wy_info.to_csv('all_deficit_data_'+str(sitenum)+'.csv')"
      ],
      "execution_count": 25,
      "outputs": []
    },
    {
      "cell_type": "markdown",
      "source": [
        "## Test potential improvement of model by adding Oct 1 D"
      ],
      "metadata": {
        "id": "UoTquM3bsL9Z"
      }
    },
    {
      "cell_type": "code",
      "source": [
        "Q2021,fitparams_swe,fitparams_sweD\n",
        "\n",
        "totflow = sum([Q2021[key] for key in Q2021.keys()])\n",
        "swe_err = []\n",
        "swed_err = []\n",
        "swe_err_tot = []\n",
        "swed_err_tot = []\n",
        "\n",
        "for s in Q2021.keys():\n",
        "  swe_err.append(-(Q2021[s]-fitparams_swe[s][1])/Q2021[s]*100)\n",
        "  swed_err.append(-(Q2021[s]-fitparams_sweD[s][1])/Q2021[s]*100)\n",
        "  swe_err_tot.append(-(Q2021[s]-fitparams_swe[s][1])/totflow*100)\n",
        "  swed_err_tot.append(-(Q2021[s]-fitparams_sweD[s][1])/totflow*100)"
      ],
      "metadata": {
        "id": "GRnCVMSDsfAY"
      },
      "execution_count": 26,
      "outputs": []
    },
    {
      "cell_type": "code",
      "source": [
        "sum(swe_err_tot),sum(swed_err_tot)"
      ],
      "metadata": {
        "colab": {
          "base_uri": "https://localhost:8080/"
        },
        "id": "X6V_2YDBA3ej",
        "outputId": "e8af9cbe-d22a-4ea4-8442-0d74a067a785"
      },
      "execution_count": 27,
      "outputs": [
        {
          "output_type": "execute_result",
          "data": {
            "text/plain": [
              "(34.302583206372304, 2.573889986243001)"
            ]
          },
          "metadata": {},
          "execution_count": 27
        }
      ]
    },
    {
      "cell_type": "code",
      "source": [
        "np.nanmedian(swe_err),np.nanmedian(swed_err)"
      ],
      "metadata": {
        "colab": {
          "base_uri": "https://localhost:8080/"
        },
        "id": "WXA7J3A6vbBy",
        "outputId": "ace3c43e-ab88-4bec-d52d-fa8d0caba707"
      },
      "execution_count": 28,
      "outputs": [
        {
          "output_type": "execute_result",
          "data": {
            "text/plain": [
              "(18.15119369346754, 1.8756043938916986)"
            ]
          },
          "metadata": {},
          "execution_count": 28
        }
      ]
    },
    {
      "cell_type": "code",
      "source": [
        "%matplotlib inline\n",
        "plt.rcParams.update({'font.size': 16})\n",
        "\n",
        "fig, ax = plt.subplots(1,figsize = (8,8))\n",
        "size = 100\n",
        "\n",
        "colors = ['steelblue','skyblue','firebrick','goldenrod',\n",
        "          'orange','white']\n",
        "sitenames = gages.STATION_NM.values\n",
        "\n",
        "for i in range(len(swed_err)):\n",
        "  ax.scatter([0],swe_err[i],s=size,\n",
        "           edgecolor = 'k',c=colors[i],label=sitenames[i])\n",
        "ax.boxplot(swe_err,positions=[0],\n",
        "           boxprops= dict(linewidth=2.0, color='black'),\n",
        "           whiskerprops = dict(linewidth=2.0, color='black'),\n",
        "           medianprops = dict(linewidth=2.0, color='black'),\n",
        "           capprops = dict(linewidth=2.0, color='black'),\n",
        "           showfliers=False)\n",
        "ax.scatter([0],[300],s=size,edgecolor = 'k',c=colors[i],label=None,\n",
        "           clip_on=False)\n",
        "ax.annotate('',xy = (0,300),\n",
        "            xytext = (0,320),\n",
        "            arrowprops = dict(arrowstyle=\"<-\",\n",
        "                            connectionstyle=\"arc3\"),\n",
        "            clip_on=False, zorder = -1\n",
        "            )\n",
        "\n",
        "for i in range(len(swed_err)):\n",
        "  ax.scatter([0.5],swed_err[i],s=size,\n",
        "           edgecolor = 'k',c=colors[i],label=None)\n",
        "ax.boxplot(swed_err,positions=[0.5],\n",
        "           boxprops= dict(linewidth=2.0, color='black'),\n",
        "           whiskerprops = dict(linewidth=2.0, color='black'),\n",
        "           medianprops = dict(linewidth=2.0, color='black'),\n",
        "           capprops = dict(linewidth=2.0, color='black'),\n",
        "           showfliers=False)\n",
        "\n",
        "ax.axhspan(-150,0,facecolor='k',alpha=0.1,zorder=-1)\n",
        "ax.set_ylim(-100,300)\n",
        "ax.set_xticklabels(['SWE only','SWE and \\nOct D/winter P'])\n",
        "ax.set_ylabel('% error in 2021 streamflow')\n",
        "\n",
        "ax.legend(loc='upper right',bbox_to_anchor = (2,1),frameon=False)\n",
        "\n",
        "ax.text(-0.45,5,'overpredicts')\n",
        "ax.text(-0.45,-15,'underpredicts')\n",
        "\n",
        "plt.savefig('model_performance_dwr_sites.png',format='png',bbox_inches='tight',\n",
        "            dpi=300)"
      ],
      "metadata": {
        "colab": {
          "base_uri": "https://localhost:8080/",
          "height": 530
        },
        "id": "H0HiX8PQv3bg",
        "outputId": "fe07a4d6-51b8-4dd9-f1ad-dc856394e301"
      },
      "execution_count": 29,
      "outputs": [
        {
          "output_type": "display_data",
          "data": {
            "text/plain": [
              "<Figure size 576x576 with 1 Axes>"
            ],
            "image/png": "[encoded data removed]"
          },
          "metadata": {
            "image/png": {
              "width": 963,
              "height": 513
            },
            "needs_background": "light"
          }
        }
      ]
    },
    {
      "cell_type": "code",
      "source": [
        "swe_err"
      ],
      "metadata": {
        "colab": {
          "base_uri": "https://localhost:8080/"
        },
        "id": "tm_uJLBJy4lp",
        "outputId": "3bc72166-42b4-480c-9c17-f042e0591710"
      },
      "execution_count": 30,
      "outputs": [
        {
          "output_type": "execute_result",
          "data": {
            "text/plain": [
              "[22.505478595053738,\n",
              " 13.796908791881343,\n",
              " 4.616078855676496,\n",
              " -41.14869425975382,\n",
              " 88.53747344168535,\n",
              " 405.624636877257]"
            ]
          },
          "metadata": {},
          "execution_count": 30
        }
      ]
    },
    {
      "cell_type": "code",
      "source": [
        "swed_err"
      ],
      "metadata": {
        "colab": {
          "base_uri": "https://localhost:8080/"
        },
        "id": "Vi2N_gRmzfGK",
        "outputId": "eb4b3c34-d921-46d4-cc51-b5deda004cc1"
      },
      "execution_count": 32,
      "outputs": [
        {
          "output_type": "execute_result",
          "data": {
            "text/plain": [
              "[-3.8203191696367695,\n",
              " 7.571527957420167,\n",
              " -8.064830092214452,\n",
              " -87.88956699195506,\n",
              " 20.650833963757613,\n",
              " 133.0290988001507]"
            ]
          },
          "metadata": {},
          "execution_count": 32
        }
      ]
    },
    {
      "cell_type": "code",
      "source": [
        "sitenames"
      ],
      "metadata": {
        "colab": {
          "base_uri": "https://localhost:8080/"
        },
        "id": "yq0AeQK938wW",
        "outputId": "bb713fa6-3add-4532-cd61-c9c4f9087278"
      },
      "execution_count": 31,
      "outputs": [
        {
          "output_type": "execute_result",
          "data": {
            "text/plain": [
              "array(['TRINITY R A LEWISTON CA',\n",
              "       'SACRAMENTO R AB BEND BRIDGE NR RED BLUFF CA',\n",
              "       'MERCED R BL MERCED FALLS DAM NR SNELL CA',\n",
              "       'TUOLUMNE R BL LAGRANGE DAM NR LAGRANGE CA',\n",
              "       'MOKELUMNE R NR MOKELUMNE HILL CA', 'COSUMNES R A MICHIGAN BAR CA'],\n",
              "      dtype=object)"
            ]
          },
          "metadata": {},
          "execution_count": 31
        }
      ]
    },
    {
      "cell_type": "code",
      "source": [
        "gages"
      ],
      "metadata": {
        "colab": {
          "base_uri": "https://localhost:8080/",
          "height": 643
        },
        "id": "VW4d6dtqv4f4",
        "outputId": "f146941f-28b1-40de-ef58-b777cd912d79"
      },
      "execution_count": null,
      "outputs": [
        {
          "output_type": "execute_result",
          "data": {
            "text/plain": [
              "   FID_SITES AGENCY_CD   SITE_NO                                   STATION_NM  \\\n",
              "0      14280      USGS  11525500                      TRINITY R A LEWISTON CA   \n",
              "1      13451      USGS  11377100  SACRAMENTO R AB BEND BRIDGE NR RED BLUFF CA   \n",
              "2       8609      USGS  11270900     MERCED R BL MERCED FALLS DAM NR SNELL CA   \n",
              "3       8766      USGS  11289650    TUOLUMNE R BL LAGRANGE DAM NR LAGRANGE CA   \n",
              "4       9700      USGS  11319500             MOKELUMNE R NR MOKELUMNE HILL CA   \n",
              "5       9953      USGS  11335000                 COSUMNES R A MICHIGAN BAR CA   \n",
              "\n",
              "  STATE_CD STATE SITESTATUS  DA_SQ_MILE    LON_SITE   LAT_SITE  ...      MAX_  \\\n",
              "0       06    CA          A       719.0 -122.803634  40.719312  ...   38700.0   \n",
              "1       06    CA          A      8900.0 -122.186664  40.288488  ...  261000.0   \n",
              "2       06    CA          A      1061.0 -120.332411  37.521603  ...   37200.0   \n",
              "3       06    CA          A      1538.0 -120.442139  37.666321  ...   50100.0   \n",
              "4       06    CA          A       544.0 -120.720211  38.312693  ...   31300.0   \n",
              "5       06    CA          A       536.0 -121.045221  38.500186  ...   61600.0   \n",
              "\n",
              "         AVE      STDEV GOTQ  \\\n",
              "0   1121.288   1840.691    1   \n",
              "1  12025.307  13005.531    1   \n",
              "2   1327.526   1601.183    1   \n",
              "3    978.543   1874.442    1   \n",
              "4    984.309   1131.653    1   \n",
              "5    493.170   1221.584    1   \n",
              "\n",
              "                                             NWISWEB       HUC  HUC_REG  \\\n",
              "0  http://waterdata.usgs.gov/nwis/nwisman/?site_n...  18010211       18   \n",
              "1  http://waterdata.usgs.gov/nwis/nwisman/?site_n...  18020101       18   \n",
              "2  http://waterdata.usgs.gov/nwis/nwisman/?site_n...  18040002       18   \n",
              "3  http://waterdata.usgs.gov/nwis/nwisman/?site_n...  18040002       18   \n",
              "4  http://waterdata.usgs.gov/nwis/nwisman/?site_n...  18040012       18   \n",
              "5  http://waterdata.usgs.gov/nwis/nwisman/?site_n...  18040013       18   \n",
              "\n",
              "   SUBREGIONS  ACCOUNTING                     geometry  \n",
              "0        1801      180102  POINT (-122.80345 40.71984)  \n",
              "1        1802      180201  POINT (-122.18705 40.28866)  \n",
              "2        1804      180400  POINT (-120.33258 37.52176)  \n",
              "3        1804      180400  POINT (-120.44251 37.66640)  \n",
              "4        1804      180400  POINT (-120.72018 38.31263)  \n",
              "5        1804      180400  POINT (-121.04523 38.50027)  \n",
              "\n",
              "[6 rows x 48 columns]"
            ],
            "text/html": [
              "\n",
              "  <div id=\"df-ad0c3f5f-9bb6-45c9-9f82-7012c87ea970\">\n",
              "    <div class=\"colab-df-container\">\n",
              "      <div>\n",
              "<style scoped>\n",
              "    .dataframe tbody tr th:only-of-type {\n",
              "        vertical-align: middle;\n",
              "    }\n",
              "\n",
              "    .dataframe tbody tr th {\n",
              "        vertical-align: top;\n",
              "    }\n",
              "\n",
              "    .dataframe thead th {\n",
              "        text-align: right;\n",
              "    }\n",
              "</style>\n",
              "<table border=\"1\" class=\"dataframe\">\n",
              "  <thead>\n",
              "    <tr style=\"text-align: right;\">\n",
              "      <th></th>\n",
              "      <th>FID_SITES</th>\n",
              "      <th>AGENCY_CD</th>\n",
              "      <th>SITE_NO</th>\n",
              "      <th>STATION_NM</th>\n",
              "      <th>STATE_CD</th>\n",
              "      <th>STATE</th>\n",
              "      <th>SITESTATUS</th>\n",
              "      <th>DA_SQ_MILE</th>\n",
              "      <th>LON_SITE</th>\n",
              "      <th>LAT_SITE</th>\n",
              "      <th>...</th>\n",
              "      <th>MAX_</th>\n",
              "      <th>AVE</th>\n",
              "      <th>STDEV</th>\n",
              "      <th>GOTQ</th>\n",
              "      <th>NWISWEB</th>\n",
              "      <th>HUC</th>\n",
              "      <th>HUC_REG</th>\n",
              "      <th>SUBREGIONS</th>\n",
              "      <th>ACCOUNTING</th>\n",
              "      <th>geometry</th>\n",
              "    </tr>\n",
              "  </thead>\n",
              "  <tbody>\n",
              "    <tr>\n",
              "      <th>0</th>\n",
              "      <td>14280</td>\n",
              "      <td>USGS</td>\n",
              "      <td>11525500</td>\n",
              "      <td>TRINITY R A LEWISTON CA</td>\n",
              "      <td>06</td>\n",
              "      <td>CA</td>\n",
              "      <td>A</td>\n",
              "      <td>719.0</td>\n",
              "      <td>-122.803634</td>\n",
              "      <td>40.719312</td>\n",
              "      <td>...</td>\n",
              "      <td>38700.0</td>\n",
              "      <td>1121.288</td>\n",
              "      <td>1840.691</td>\n",
              "      <td>1</td>\n",
              "      <td>http://waterdata.usgs.gov/nwis/nwisman/?site_n...</td>\n",
              "      <td>18010211</td>\n",
              "      <td>18</td>\n",
              "      <td>1801</td>\n",
              "      <td>180102</td>\n",
              "      <td>POINT (-122.80345 40.71984)</td>\n",
              "    </tr>\n",
              "    <tr>\n",
              "      <th>1</th>\n",
              "      <td>13451</td>\n",
              "      <td>USGS</td>\n",
              "      <td>11377100</td>\n",
              "      <td>SACRAMENTO R AB BEND BRIDGE NR RED BLUFF CA</td>\n",
              "      <td>06</td>\n",
              "      <td>CA</td>\n",
              "      <td>A</td>\n",
              "      <td>8900.0</td>\n",
              "      <td>-122.186664</td>\n",
              "      <td>40.288488</td>\n",
              "      <td>...</td>\n",
              "      <td>261000.0</td>\n",
              "      <td>12025.307</td>\n",
              "      <td>13005.531</td>\n",
              "      <td>1</td>\n",
              "      <td>http://waterdata.usgs.gov/nwis/nwisman/?site_n...</td>\n",
              "      <td>18020101</td>\n",
              "      <td>18</td>\n",
              "      <td>1802</td>\n",
              "      <td>180201</td>\n",
              "      <td>POINT (-122.18705 40.28866)</td>\n",
              "    </tr>\n",
              "    <tr>\n",
              "      <th>2</th>\n",
              "      <td>8609</td>\n",
              "      <td>USGS</td>\n",
              "      <td>11270900</td>\n",
              "      <td>MERCED R BL MERCED FALLS DAM NR SNELL CA</td>\n",
              "      <td>06</td>\n",
              "      <td>CA</td>\n",
              "      <td>A</td>\n",
              "      <td>1061.0</td>\n",
              "      <td>-120.332411</td>\n",
              "      <td>37.521603</td>\n",
              "      <td>...</td>\n",
              "      <td>37200.0</td>\n",
              "      <td>1327.526</td>\n",
              "      <td>1601.183</td>\n",
              "      <td>1</td>\n",
              "      <td>http://waterdata.usgs.gov/nwis/nwisman/?site_n...</td>\n",
              "      <td>18040002</td>\n",
              "      <td>18</td>\n",
              "      <td>1804</td>\n",
              "      <td>180400</td>\n",
              "      <td>POINT (-120.33258 37.52176)</td>\n",
              "    </tr>\n",
              "    <tr>\n",
              "      <th>3</th>\n",
              "      <td>8766</td>\n",
              "      <td>USGS</td>\n",
              "      <td>11289650</td>\n",
              "      <td>TUOLUMNE R BL LAGRANGE DAM NR LAGRANGE CA</td>\n",
              "      <td>06</td>\n",
              "      <td>CA</td>\n",
              "      <td>A</td>\n",
              "      <td>1538.0</td>\n",
              "      <td>-120.442139</td>\n",
              "      <td>37.666321</td>\n",
              "      <td>...</td>\n",
              "      <td>50100.0</td>\n",
              "      <td>978.543</td>\n",
              "      <td>1874.442</td>\n",
              "      <td>1</td>\n",
              "      <td>http://waterdata.usgs.gov/nwis/nwisman/?site_n...</td>\n",
              "      <td>18040002</td>\n",
              "      <td>18</td>\n",
              "      <td>1804</td>\n",
              "      <td>180400</td>\n",
              "      <td>POINT (-120.44251 37.66640)</td>\n",
              "    </tr>\n",
              "    <tr>\n",
              "      <th>4</th>\n",
              "      <td>9700</td>\n",
              "      <td>USGS</td>\n",
              "      <td>11319500</td>\n",
              "      <td>MOKELUMNE R NR MOKELUMNE HILL CA</td>\n",
              "      <td>06</td>\n",
              "      <td>CA</td>\n",
              "      <td>A</td>\n",
              "      <td>544.0</td>\n",
              "      <td>-120.720211</td>\n",
              "      <td>38.312693</td>\n",
              "      <td>...</td>\n",
              "      <td>31300.0</td>\n",
              "      <td>984.309</td>\n",
              "      <td>1131.653</td>\n",
              "      <td>1</td>\n",
              "      <td>http://waterdata.usgs.gov/nwis/nwisman/?site_n...</td>\n",
              "      <td>18040012</td>\n",
              "      <td>18</td>\n",
              "      <td>1804</td>\n",
              "      <td>180400</td>\n",
              "      <td>POINT (-120.72018 38.31263)</td>\n",
              "    </tr>\n",
              "    <tr>\n",
              "      <th>5</th>\n",
              "      <td>9953</td>\n",
              "      <td>USGS</td>\n",
              "      <td>11335000</td>\n",
              "      <td>COSUMNES R A MICHIGAN BAR CA</td>\n",
              "      <td>06</td>\n",
              "      <td>CA</td>\n",
              "      <td>A</td>\n",
              "      <td>536.0</td>\n",
              "      <td>-121.045221</td>\n",
              "      <td>38.500186</td>\n",
              "      <td>...</td>\n",
              "      <td>61600.0</td>\n",
              "      <td>493.170</td>\n",
              "      <td>1221.584</td>\n",
              "      <td>1</td>\n",
              "      <td>http://waterdata.usgs.gov/nwis/nwisman/?site_n...</td>\n",
              "      <td>18040013</td>\n",
              "      <td>18</td>\n",
              "      <td>1804</td>\n",
              "      <td>180400</td>\n",
              "      <td>POINT (-121.04523 38.50027)</td>\n",
              "    </tr>\n",
              "  </tbody>\n",
              "</table>\n",
              "<p>6 rows × 48 columns</p>\n",
              "</div>\n",
              "      <button class=\"colab-df-convert\" onclick=\"convertToInteractive('df-ad0c3f5f-9bb6-45c9-9f82-7012c87ea970')\"\n",
              "              title=\"Convert this dataframe to an interactive table.\"\n",
              "              style=\"display:none;\">\n",
              "        \n",
              "  <svg xmlns=\"http://www.w3.org/2000/svg\" height=\"24px\"viewBox=\"0 0 24 24\"\n",
              "       width=\"24px\">\n",
              "    <path d=\"M0 0h24v24H0V0z\" fill=\"none\"/>\n",
              "    <path d=\"M18.56 5.44l.94 2.06.94-2.06 2.06-.94-2.06-.94-.94-2.06-.94 2.06-2.06.94zm-11 1L8.5 8.5l.94-2.06 2.06-.94-2.06-.94L8.5 2.5l-.94 2.06-2.06.94zm10 10l.94 2.06.94-2.06 2.06-.94-2.06-.94-.94-2.06-.94 2.06-2.06.94z\"/><path d=\"M17.41 7.96l-1.37-1.37c-.4-.4-.92-.59-1.43-.59-.52 0-1.04.2-1.43.59L10.3 9.45l-7.72 7.72c-.78.78-.78 2.05 0 2.83L4 21.41c.39.39.9.59 1.41.59.51 0 1.02-.2 1.41-.59l7.78-7.78 2.81-2.81c.8-.78.8-2.07 0-2.86zM5.41 20L4 18.59l7.72-7.72 1.47 1.35L5.41 20z\"/>\n",
              "  </svg>\n",
              "      </button>\n",
              "      \n",
              "  <style>\n",
              "    .colab-df-container {\n",
              "      display:flex;\n",
              "      flex-wrap:wrap;\n",
              "      gap: 12px;\n",
              "    }\n",
              "\n",
              "    .colab-df-convert {\n",
              "      background-color: #E8F0FE;\n",
              "      border: none;\n",
              "      border-radius: 50%;\n",
              "      cursor: pointer;\n",
              "      display: none;\n",
              "      fill: #1967D2;\n",
              "      height: 32px;\n",
              "      padding: 0 0 0 0;\n",
              "      width: 32px;\n",
              "    }\n",
              "\n",
              "    .colab-df-convert:hover {\n",
              "      background-color: #E2EBFA;\n",
              "      box-shadow: 0px 1px 2px rgba(60, 64, 67, 0.3), 0px 1px 3px 1px rgba(60, 64, 67, 0.15);\n",
              "      fill: #174EA6;\n",
              "    }\n",
              "\n",
              "    [theme=dark] .colab-df-convert {\n",
              "      background-color: #3B4455;\n",
              "      fill: #D2E3FC;\n",
              "    }\n",
              "\n",
              "    [theme=dark] .colab-df-convert:hover {\n",
              "      background-color: #434B5C;\n",
              "      box-shadow: 0px 1px 3px 1px rgba(0, 0, 0, 0.15);\n",
              "      filter: drop-shadow(0px 1px 2px rgba(0, 0, 0, 0.3));\n",
              "      fill: #FFFFFF;\n",
              "    }\n",
              "  </style>\n",
              "\n",
              "      <script>\n",
              "        const buttonEl =\n",
              "          document.querySelector('#df-ad0c3f5f-9bb6-45c9-9f82-7012c87ea970 button.colab-df-convert');\n",
              "        buttonEl.style.display =\n",
              "          google.colab.kernel.accessAllowed ? 'block' : 'none';\n",
              "\n",
              "        async function convertToInteractive(key) {\n",
              "          const element = document.querySelector('#df-ad0c3f5f-9bb6-45c9-9f82-7012c87ea970');\n",
              "          const dataTable =\n",
              "            await google.colab.kernel.invokeFunction('convertToInteractive',\n",
              "                                                     [key], {});\n",
              "          if (!dataTable) return;\n",
              "\n",
              "          const docLinkHtml = 'Like what you see? Visit the ' +\n",
              "            '<a target=\"_blank\" href=https://colab.research.google.com/notebooks/data_table.ipynb>data table notebook</a>'\n",
              "            + ' to learn more about interactive tables.';\n",
              "          element.innerHTML = '';\n",
              "          dataTable['output_type'] = 'display_data';\n",
              "          await google.colab.output.renderOutput(dataTable, element);\n",
              "          const docLink = document.createElement('div');\n",
              "          docLink.innerHTML = docLinkHtml;\n",
              "          element.appendChild(docLink);\n",
              "        }\n",
              "      </script>\n",
              "    </div>\n",
              "  </div>\n",
              "  "
            ]
          },
          "metadata": {},
          "execution_count": 41
        }
      ]
    },
    {
      "cell_type": "code",
      "source": [
        "\n"
      ],
      "metadata": {
        "id": "_6RDajFXublV"
      },
      "execution_count": null,
      "outputs": []
    },
    {
      "cell_type": "code",
      "source": [
        ""
      ],
      "metadata": {
        "id": "gfjFz3nUuPY3"
      },
      "execution_count": null,
      "outputs": []
    }
  ]
}